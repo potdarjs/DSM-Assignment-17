{
 "cells": [
  {
   "cell_type": "markdown",
   "metadata": {},
   "source": [
    "# Assignment 17 - Data Science Masters"
   ]
  },
  {
   "cell_type": "markdown",
   "metadata": {},
   "source": [
    "# Problem Statement 1"
   ]
  },
  {
   "cell_type": "code",
   "execution_count": 14,
   "metadata": {},
   "outputs": [],
   "source": [
    "# Blood glucose levels for obese patients have a mean of 100 with a standard deviation of\n",
    "# 15. A researcher thinks that a diet high in raw cornstarch will have a positive effect on\n",
    "# blood glucose levels. A sample of 36 patients who have tried the raw cornstarch diet\n",
    "# have a mean glucose level of 108. Test the hypothesis that the raw cornstarch had an\n",
    "# effect or not."
   ]
  },
  {
   "cell_type": "code",
   "execution_count": 15,
   "metadata": {},
   "outputs": [],
   "source": [
    "# Importing libraries\n",
    "\n",
    "import numpy as np\n",
    "import scipy.stats as stats\n",
    "import scipy\n",
    "import math"
   ]
  },
  {
   "cell_type": "code",
   "execution_count": 16,
   "metadata": {},
   "outputs": [
    {
     "data": {
      "text/plain": [
       "0.9993128620620841"
      ]
     },
     "execution_count": 16,
     "metadata": {},
     "output_type": "execute_result"
    }
   ],
   "source": [
    "mu = 100\n",
    "sigma = 15\n",
    "\n",
    "sample_no = 36\n",
    "sample_mean =108\n",
    "\n",
    "# Our Hypothesis\n",
    "\n",
    "# H0 : Blood glucose levels remain the same(have no effect) even after following the cornstarch diet. mu = 100\n",
    "# H1 : Blood glucose levels increase(have positive effect) after following the cornstarch diet. mu > 100\n",
    "\n",
    "p = stats.norm.cdf(sample_mean, mu, (sigma/math.sqrt(sample_no)))\n",
    "p"
   ]
  },
  {
   "cell_type": "code",
   "execution_count": 17,
   "metadata": {},
   "outputs": [
    {
     "data": {
      "text/plain": [
       "0.0006871379379158604"
      ]
     },
     "execution_count": 17,
     "metadata": {},
     "output_type": "execute_result"
    }
   ],
   "source": [
    "p_bar = 1 - p \n",
    "p_bar"
   ]
  },
  {
   "cell_type": "code",
   "execution_count": 18,
   "metadata": {},
   "outputs": [
    {
     "name": "stdout",
     "output_type": "stream",
     "text": [
      "We reject the Null hypothesis i.e. raw cornstarch diet has a positive effect on glucose levels of patients\n"
     ]
    }
   ],
   "source": [
    "# The significance level is taken to be 5% (0.05)\n",
    "if(p_bar < 0.05):\n",
    "    print(\"We reject the Null hypothesis i.e. raw cornstarch diet has a positive effect on glucose levels of patients\")\n",
    "else:\n",
    "    print(\"We accept the Null hypothesis i.e. raw cornstarch diet has no effect on glucose levels of patients\")"
   ]
  },
  {
   "cell_type": "markdown",
   "metadata": {},
   "source": [
    "# Problem Statement 2"
   ]
  },
  {
   "cell_type": "code",
   "execution_count": 19,
   "metadata": {},
   "outputs": [],
   "source": [
    "# In one state, 52% of the voters are Republicans, and 48% are Democrats. In a second\n",
    "# state, 47% of the voters are Republicans, and 53% are Democrats. Suppose a simple\n",
    "# random sample of 100 voters are surveyed from each state.\n",
    "# What is the probability that the survey will show a greater percentage of Republican\n",
    "# voters in the second state than in the first state?"
   ]
  },
  {
   "cell_type": "code",
   "execution_count": 20,
   "metadata": {},
   "outputs": [],
   "source": [
    "n1 = 100 # Samples for state 1\n",
    "n2 = 100 # Samples for state 2\n",
    "\n",
    "P1 = 0.52 # The proportion of Republican voters in the first state\n",
    "P2 = 0.47 # The proportion of Republican voters in the second state"
   ]
  },
  {
   "cell_type": "markdown",
   "metadata": {},
   "source": [
    "# Sample sizes n1P1 = 100 0.52 = 52, n1(1 - P1) = 100 0.48 = 48, n2P2 = 100 0.47 = 47, and n2(1 - P2) = 100 0.53 = 53¶\n",
    "The sample sizes are greater than 10. So we can model the differences with a normal population."
   ]
  },
  {
   "cell_type": "code",
   "execution_count": 21,
   "metadata": {},
   "outputs": [
    {
     "data": {
      "text/plain": [
       "0.050000000000000044"
      ]
     },
     "execution_count": 21,
     "metadata": {},
     "output_type": "execute_result"
    }
   ],
   "source": [
    "# The mean of the difference in sample proportions, E(p1-p2) = P1 - P2, where \n",
    "# p1 = the proportion of Republican voters in the sample from the first state and\n",
    "# p2 =  the proportion of Republican voters in the sample from the second state\n",
    "\n",
    "mean_diff = P1 - P2\n",
    "mean_diff"
   ]
  },
  {
   "cell_type": "code",
   "execution_count": 22,
   "metadata": {},
   "outputs": [
    {
     "data": {
      "text/plain": [
       "0.07061869440877536"
      ]
     },
     "execution_count": 22,
     "metadata": {},
     "output_type": "execute_result"
    }
   ],
   "source": [
    "# The standard deviation of the difference in sample proportions\n",
    "\n",
    "std_diff = math.sqrt( (P1 * (1 - P1) / n1) + ( P2 *(1 - P2) / n2 )) \n",
    "std_diff"
   ]
  },
  {
   "cell_type": "code",
   "execution_count": 23,
   "metadata": {},
   "outputs": [
    {
     "data": {
      "text/plain": [
       "-0.7080278164104213"
      ]
     },
     "execution_count": 23,
     "metadata": {},
     "output_type": "execute_result"
    }
   ],
   "source": [
    "# To find probability(p_diff) that p1 is less than p2(i.e P((p1-p2)<0) ),\n",
    "# we need to find the z-score(z_diff) value and then find the value of p_diff\n",
    "\n",
    "z_diff = (0 - mean_diff)/(std_diff)\n",
    "z_diff"
   ]
  },
  {
   "cell_type": "code",
   "execution_count": 25,
   "metadata": {},
   "outputs": [
    {
     "name": "stdout",
     "output_type": "stream",
     "text": [
      "The probability that the survey will show a greater percentage of Republican voters in the second state than in the first state is :  0.24\n"
     ]
    }
   ],
   "source": [
    "# Probability(p_diff) that p1 is less than p2(i.e P((p1-p2)<0) )\n",
    "\n",
    "p_diff = scipy.special.ndtr(z_diff)\n",
    "print(\"The probability that the survey will show a greater percentage of Republican voters in the second state than in the first state is : \", np.around(p_diff,2))"
   ]
  },
  {
   "cell_type": "markdown",
   "metadata": {},
   "source": [
    "# Problem Statement 3"
   ]
  },
  {
   "cell_type": "code",
   "execution_count": 26,
   "metadata": {},
   "outputs": [],
   "source": [
    "# You take the SAT and score 1100. The mean score for the SAT is 1026 and the standard\n",
    "# deviation is 209. How well did you score on the test compared to the average test taker?"
   ]
  },
  {
   "cell_type": "code",
   "execution_count": 27,
   "metadata": {},
   "outputs": [],
   "source": [
    "my_score = 1100\n",
    "SAT_mean = 1026\n",
    "SAT_std = 209"
   ]
  },
  {
   "cell_type": "code",
   "execution_count": 28,
   "metadata": {},
   "outputs": [
    {
     "data": {
      "text/plain": [
       "0.35406698564593303"
      ]
     },
     "execution_count": 28,
     "metadata": {},
     "output_type": "execute_result"
    }
   ],
   "source": [
    "# Calculating Z-score\n",
    "\n",
    "Z = (my_score - SAT_mean) / SAT_std\n",
    "Z"
   ]
  },
  {
   "cell_type": "code",
   "execution_count": 29,
   "metadata": {},
   "outputs": [
    {
     "name": "stdout",
     "output_type": "stream",
     "text": [
      "The percentage by which I scored better than the average test taker is : 63.84 %\n"
     ]
    }
   ],
   "source": [
    "# Calculating the percentage by which my score is better than  the average test taker\n",
    "\n",
    "P = scipy.special.ndtr(Z)\n",
    "print(\"The percentage by which I scored better than the average test taker is :\", np.around(P*100,2), \"%\")\n",
    "\n",
    "# p-value(P), given the z-score(Z) from Z-Table, P = 0.6368 or 63.68%"
   ]
  }
 ],
 "metadata": {
  "kernelspec": {
   "display_name": "Python 3",
   "language": "python",
   "name": "python3"
  },
  "language_info": {
   "codemirror_mode": {
    "name": "ipython",
    "version": 3
   },
   "file_extension": ".py",
   "mimetype": "text/x-python",
   "name": "python",
   "nbconvert_exporter": "python",
   "pygments_lexer": "ipython3",
   "version": "3.6.5"
  }
 },
 "nbformat": 4,
 "nbformat_minor": 2
}
